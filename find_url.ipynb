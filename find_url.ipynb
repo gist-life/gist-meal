{
 "cells": [
  {
   "cell_type": "code",
   "id": "initial_id",
   "metadata": {
    "collapsed": true,
    "ExecuteTime": {
     "end_time": "2025-03-07T17:18:05.877951Z",
     "start_time": "2025-03-07T17:18:05.285637Z"
    }
   },
   "source": [
    "import re\n",
    "from datetime import date\n",
    "\n",
    "import requests\n",
    "from bs4 import BeautifulSoup, Tag"
   ],
   "outputs": [],
   "execution_count": 1
  },
  {
   "metadata": {
    "ExecuteTime": {
     "end_time": "2025-03-07T17:18:05.916182Z",
     "start_time": "2025-03-07T17:18:05.905703Z"
    }
   },
   "cell_type": "code",
   "source": [
    "def get_date_from_box(box: Tag) -> tuple[date, date]:\n",
    "    title = box.select('div > a > div.bd_entry > h2 > span')\n",
    "    matched = re.search(r'제2학생식당주간식단표\\((\\d{2,4})\\.(\\d{2})\\.(\\d{2})[-~](\\d{2,4})\\.(\\d{2})\\.(\\d{2})\\)', title.text)\n",
    "\n",
    "    if matched is None:\n",
    "        raise ValueError(f'Invalid title ({title.text})')\n",
    "\n",
    "    from_year = int(matched.group(1))\n",
    "    if from_year < 100 or from_year < 1000:\n",
    "        from_year += 2000\n",
    "\n",
    "    to_year = int(matched.group(4))\n",
    "    if to_year < 100 or to_year < 1000:\n",
    "        to_year += 2000\n",
    "\n",
    "    from_date = date(from_year, int(matched.group(2)), int(matched.group(3)))\n",
    "    to_date = date(to_year, int(matched.group(5)), int(matched.group(6)))\n",
    "\n",
    "    return from_date, to_date\n",
    "\n",
    "def find_url(target: date) -> str:\n",
    "    page = 1\n",
    "\n",
    "    while True:\n",
    "        url = f'https://www.gist.ac.kr/kr/html/sub05/050602.html?mode=L&GotoPage={page}'\n",
    "\n",
    "        response = requests.get(url)\n",
    "        soup = BeautifulSoup(response.content, 'html.parser')\n",
    "\n",
    "        boxes = sorted(soup.find_all('#txt > div.bd_container.bd_list > div.bd_list_wrap.col1.grid > div'), key=lambda box: get_date_from_box(box)[0])\n",
    "        print(f'{page=}, {get_date_from_box(boxes[0])[0]}~{get_date_from_box(boxes[-1])[1]}')\n",
    "\n",
    "        if get_date_from_box(boxes[0])[0] <= target <= get_date_from_box(boxes[-1])[1]:\n",
    "            for box in boxes:\n",
    "                from_date, to_date = get_date_from_box(box)\n",
    "                if from_date <= target <= to_date:\n",
    "                    return box.select('div > a')['href']\n",
    "\n",
    "        page += 1"
   ],
   "id": "62928bfc2b0f410a",
   "outputs": [],
   "execution_count": 2
  },
  {
   "metadata": {
    "ExecuteTime": {
     "end_time": "2025-03-07T17:19:02.985964Z",
     "start_time": "2025-03-07T17:19:02.425378Z"
    }
   },
   "cell_type": "code",
   "source": "find_url(date(2023, 9, 4))",
   "id": "858301b3e0fa6631",
   "outputs": [
    {
     "ename": "IndexError",
     "evalue": "list index out of range",
     "output_type": "error",
     "traceback": [
      "\u001B[31m---------------------------------------------------------------------------\u001B[39m",
      "\u001B[31mIndexError\u001B[39m                                Traceback (most recent call last)",
      "\u001B[36mCell\u001B[39m\u001B[36m \u001B[39m\u001B[32mIn[7]\u001B[39m\u001B[32m, line 1\u001B[39m\n\u001B[32m----> \u001B[39m\u001B[32m1\u001B[39m \u001B[43mfind_url\u001B[49m\u001B[43m(\u001B[49m\u001B[43mdate\u001B[49m\u001B[43m(\u001B[49m\u001B[32;43m2023\u001B[39;49m\u001B[43m,\u001B[49m\u001B[43m \u001B[49m\u001B[32;43m9\u001B[39;49m\u001B[43m,\u001B[49m\u001B[43m \u001B[49m\u001B[32;43m4\u001B[39;49m\u001B[43m)\u001B[49m\u001B[43m)\u001B[49m\n",
      "\u001B[36mCell\u001B[39m\u001B[36m \u001B[39m\u001B[32mIn[2]\u001B[39m\u001B[32m, line 31\u001B[39m, in \u001B[36mfind_url\u001B[39m\u001B[34m(target)\u001B[39m\n\u001B[32m     28\u001B[39m soup = BeautifulSoup(response.content, \u001B[33m'\u001B[39m\u001B[33mhtml.parser\u001B[39m\u001B[33m'\u001B[39m)\n\u001B[32m     30\u001B[39m boxes = \u001B[38;5;28msorted\u001B[39m(soup.find_all(\u001B[33m'\u001B[39m\u001B[33m#txt > div.bd_container.bd_list > div.bd_list_wrap.col1.grid > div\u001B[39m\u001B[33m'\u001B[39m), key=\u001B[38;5;28;01mlambda\u001B[39;00m box: get_date_from_box(box)[\u001B[32m0\u001B[39m])\n\u001B[32m---> \u001B[39m\u001B[32m31\u001B[39m \u001B[38;5;28mprint\u001B[39m(\u001B[33mf\u001B[39m\u001B[33m'\u001B[39m\u001B[38;5;132;01m{\u001B[39;00mpage\u001B[38;5;132;01m=}\u001B[39;00m\u001B[33m, \u001B[39m\u001B[38;5;132;01m{\u001B[39;00mget_date_from_box(\u001B[43mboxes\u001B[49m\u001B[43m[\u001B[49m\u001B[32;43m0\u001B[39;49m\u001B[43m]\u001B[49m)[\u001B[32m0\u001B[39m]\u001B[38;5;132;01m}\u001B[39;00m\u001B[33m~\u001B[39m\u001B[38;5;132;01m{\u001B[39;00mget_date_from_box(boxes[-\u001B[32m1\u001B[39m])[\u001B[32m1\u001B[39m]\u001B[38;5;132;01m}\u001B[39;00m\u001B[33m'\u001B[39m)\n\u001B[32m     33\u001B[39m \u001B[38;5;28;01mif\u001B[39;00m get_date_from_box(boxes[\u001B[32m0\u001B[39m])[\u001B[32m0\u001B[39m] <= target <= get_date_from_box(boxes[-\u001B[32m1\u001B[39m])[\u001B[32m1\u001B[39m]:\n\u001B[32m     34\u001B[39m     \u001B[38;5;28;01mfor\u001B[39;00m box \u001B[38;5;129;01min\u001B[39;00m boxes:\n",
      "\u001B[31mIndexError\u001B[39m: list index out of range"
     ]
    }
   ],
   "execution_count": 7
  },
  {
   "metadata": {},
   "cell_type": "code",
   "source": "",
   "id": "5014749f4811de7b",
   "outputs": [],
   "execution_count": null
  }
 ],
 "metadata": {
  "kernelspec": {
   "display_name": "Python 3",
   "language": "python",
   "name": "python3"
  },
  "language_info": {
   "codemirror_mode": {
    "name": "ipython",
    "version": 2
   },
   "file_extension": ".py",
   "mimetype": "text/x-python",
   "name": "python",
   "nbconvert_exporter": "python",
   "pygments_lexer": "ipython2",
   "version": "2.7.6"
  }
 },
 "nbformat": 4,
 "nbformat_minor": 5
}
